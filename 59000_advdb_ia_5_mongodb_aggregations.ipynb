{
 "cells": [
  {
   "cell_type": "markdown",
   "metadata": {},
   "source": [
    "# IA: MongoDB Aggregation Pipelines\n",
    "\n",
    "Answer the following questions using the `movies` collection of the `sample_mflix` database.\n",
    "\n",
    "You will add your query to the document here and will also submit your exported results for each question.\n",
    "\n",
    "**NOTE:** You will build your pipelines using the visual editor in either MongoDB Compass or the MongoDB web interface and copy/paste the queries here. You **WILL NOT** try to run the queries themselves from this document!! This is just a convenient format to store and submit your queries for grading."
   ]
  },
  {
   "cell_type": "markdown",
   "metadata": {},
   "source": [
    "## 1: Counting Cast Members\n",
    "### 3 points\n",
    "\n",
    "Create a dataset of movies (`type`) released in 1996 (`year`) whose `imdb.rating` is greater than 8. The documents in the dataset should contain four fields:\n",
    "1. `title`\n",
    "2. `year`\n",
    "3. `imdb.rating`\n",
    "4. **NUMBER** of cast members listed in `cast`\n",
    "\n",
    "Paste your query below.\n",
    "\n",
    "Export your dataset AS A CSV FILE named `1996_cast.csv`"
   ]
  },
  {
   "cell_type": "code",
   "execution_count": null,
   "metadata": {
    "vscode": {
     "languageId": "plaintext"
    }
   },
   "outputs": [],
   "source": [
    "db.getCollection('movies').aggregate(\n",
    "  [\n",
    "    {\n",
    "      $project: {\n",
    "        _id: 0,\n",
    "        type: 1,\n",
    "        year: 1,\n",
    "        rating: '$imdb.rating',\n",
    "        title: 1,\n",
    "        cast: {\n",
    "          $size: { $ifNull: ['$cast', []] }\n",
    "        }\n",
    "      }\n",
    "    },\n",
    "    {\n",
    "      $match: {\n",
    "        type: 'movie',\n",
    "        year: 1996,\n",
    "        rating: { $gt: 8 }\n",
    "      }\n",
    "    },\n",
    "    {\n",
    "      $project: {\n",
    "        title: 1,\n",
    "        year: 1,\n",
    "        imdb_rating: '$rating',\n",
    "        cast_member: '$cast'\n",
    "      }\n",
    "    }\n",
    "  ],\n",
    "  { maxTimeMS: 60000, allowDiskUse: true }\n",
    ");"
   ]
  },
  {
   "cell_type": "markdown",
   "metadata": {},
   "source": [
    "## 2: Summarizing by Plot\n",
    "\n",
    "### 4 points\n",
    "\n",
    "Create a dataset of movies (`type`) whose plot (`plot`) specifically mentions \"Italy\" or \"Italian\" (any case). Only include movies that were released in the \"USA\" (`countries`) and have more than one language (`languages`). Sort the dataset alphabetically by year of release (`year`) and title (`title`). Include all fields.\n",
    "\n",
    "Note: if a movie was released in the USA as well as other countries, it should still appear in the dataset.\n",
    "\n",
    "Export your dataset AS A JSON FILE named `italy_movies.json`"
   ]
  },
  {
   "cell_type": "code",
   "execution_count": null,
   "metadata": {
    "vscode": {
     "languageId": "plaintext"
    }
   },
   "outputs": [],
   "source": [
    "db.getCollection('movies').aggregate(\n",
    "  [\n",
    "    {\n",
    "      $match: {\n",
    "        type: 'movie',\n",
    "        plot: {\n",
    "          $regex: '(italy|italian)',\n",
    "          $options: 'i'\n",
    "        },\n",
    "        countries: { $in: ['USA'] },\n",
    "        $expr: {\n",
    "          $gt: [\n",
    "            {\n",
    "              $size: {\n",
    "                $ifNull: ['$languages', []]\n",
    "              }\n",
    "            },\n",
    "            1\n",
    "          ]\n",
    "        }\n",
    "      }\n",
    "    },\n",
    "    { $sort: { year: 1, title: 1 } }\n",
    "  ],\n",
    "  { maxTimeMS: 60000, allowDiskUse: true }\n",
    ");"
   ]
  },
  {
   "cell_type": "markdown",
   "metadata": {},
   "source": [
    "## 3: Grouping by Genre\n",
    "\n",
    "### 5 points\n",
    "\n",
    "Create a dataset of genres (`genres`) for movies (`type`) released from 1950-1959 (inclusive) (`year`). Each document in the dataset should represent ONE genre and should include a collection of movie titles (`title`) that appear in that genre.\n",
    "\n",
    "The documents in the dataset should contain two fields:\n",
    "1. `genre`\n",
    "2. `movies` (an array of movie `title`s)\n",
    "\n",
    "Movies that have more than one genre should appear in each genre's document.\n",
    "\n",
    "Export your dataset AS A JSON FILE named `1950s_movies.json`."
   ]
  },
  {
   "cell_type": "code",
   "execution_count": null,
   "metadata": {
    "vscode": {
     "languageId": "plaintext"
    }
   },
   "outputs": [],
   "source": [
    "db.getCollection('movies').aggregate(\n",
    "  [\n",
    "    {\n",
    "      $project: {\n",
    "        _id: 0,\n",
    "        genres: 1,\n",
    "        type: 1,\n",
    "        year: 1,\n",
    "        title: 1\n",
    "      }\n",
    "    },\n",
    "    {\n",
    "      $match: {\n",
    "        type: 'movie',\n",
    "        year: { $gte: 1950, $lte: 1959 }\n",
    "      }\n",
    "    },\n",
    "    { $unwind: { path: '$genres' } },\n",
    "    {\n",
    "      $group: {\n",
    "        _id: { genre: '$genres' },\n",
    "        movies: { $push: '$title' }\n",
    "      }\n",
    "    },\n",
    "    {\n",
    "      $project: {\n",
    "        _id: 0,\n",
    "        genre: '$_id.genre',\n",
    "        movies: 1\n",
    "      }\n",
    "    }\n",
    "  ],\n",
    "  { maxTimeMS: 60000, allowDiskUse: true }\n",
    ");"
   ]
  },
  {
   "cell_type": "markdown",
   "metadata": {},
   "source": [
    "## 4: Cast Member Movie Ratings\n",
    "\n",
    "### 6 points\n",
    "\n",
    "Create a dataset of cast members (`cast`) for all movies (`type`) in the database. Each document in the dataset should represent ONE cast member and should include the AVERAGE IMDB rating (`imdb.rating`) for all movies in which they have appeared. Sort the dataset alphabetically by cast member.\n",
    "\n",
    "The documents in the dataset should contain two fields:\n",
    "1. `cast_member`\n",
    "2. `average_rating`\n",
    "\n",
    "Export your dataset AS A CSV FILE named `cast_ratings.csv`"
   ]
  },
  {
   "cell_type": "code",
   "execution_count": null,
   "metadata": {
    "vscode": {
     "languageId": "plaintext"
    }
   },
   "outputs": [],
   "source": [
    "db.getCollection('movies').aggregate(\n",
    "  [\n",
    "    {\n",
    "      $project: {\n",
    "        _id: 0,\n",
    "        cast: 1,\n",
    "        type: 1,\n",
    "        rating: '$imdb.rating'\n",
    "      }\n",
    "    },\n",
    "    { $match: { type: 'movie' } },\n",
    "    { $unwind: { path: '$cast' } },\n",
    "    {\n",
    "      $group: {\n",
    "        _id: { cast_member: '$cast' },\n",
    "        average_rating: { $avg: '$rating' }\n",
    "      }\n",
    "    },\n",
    "    {\n",
    "      $project: {\n",
    "        _id: 0,\n",
    "        cast_member: '$_id.cast_member',\n",
    "        average_rating: {\n",
    "          $round: ['$average_rating', 1]\n",
    "        }\n",
    "      }\n",
    "    },\n",
    "    { $sort: { cast_member: 1 } }\n",
    "  ],\n",
    "  { maxTimeMS: 60000, allowDiskUse: true }\n",
    ");"
   ]
  },
  {
   "cell_type": "markdown",
   "metadata": {},
   "source": [
    "## 5: Director Activity By Year\n",
    "\n",
    "### 7 points\n",
    "\n",
    "Create a dataset of movies (`type`) for each year (`year`) in the database. Each document should represent ONE year. \n",
    "\n",
    "The document should contain an array field named `directors` that contains an object for each distinct director (`director`) who directed at least one movie in that year. The object should also note the number of movies that director directed for that year. Only include directors who directed more than 1 movie in any given year.\n",
    "\n",
    "### Example (demonstrating structure only)\n",
    "```\n",
    "{\n",
    "    \"year\" : \"2000\",\n",
    "    \"directors\" : [\n",
    "        { \n",
    "            \"director\" : \"John Smith\",\n",
    "            \"movie_count\" : 3 \n",
    "        },\n",
    "        { \n",
    "            \"director\" : \"Mary Edwards\",\n",
    "            \"movie_count\" : 2 \n",
    "        },\n",
    "    ]\n",
    "}\n",
    "```\n",
    "\n",
    "Export your dataset AS A JSON FILE named `years_directors.json`"
   ]
  },
  {
   "cell_type": "code",
   "execution_count": null,
   "metadata": {
    "vscode": {
     "languageId": "plaintext"
    }
   },
   "outputs": [],
   "source": [
    "db.getCollection('movies').aggregate(\n",
    "  [\n",
    "    {\n",
    "      $project: {\n",
    "        year: 1,\n",
    "        directors: 1,\n",
    "        title: 1,\n",
    "        type: 1\n",
    "      }\n",
    "    },\n",
    "    { $match: { type: 'movie' } },\n",
    "    { $unwind: { path: '$directors' } },\n",
    "    {\n",
    "      $group: {\n",
    "        _id: {\n",
    "          year: '$year',\n",
    "          director: '$directors'\n",
    "        },\n",
    "        movie_count: { $sum: 1 }\n",
    "      }\n",
    "    },\n",
    "    { $match: { movie_count: { $gt: 1 } } },\n",
    "    {\n",
    "      $group: {\n",
    "        _id: { year: '$_id.year' },\n",
    "        directors: {\n",
    "          $push: {\n",
    "            director: '$_id.director',\n",
    "            movie_count: '$movie_count'\n",
    "          }\n",
    "        }\n",
    "      }\n",
    "    },\n",
    "    {\n",
    "      $project: {\n",
    "        _id: 0,\n",
    "        year: '$_id.year',\n",
    "        director: '$directors'\n",
    "      }\n",
    "    }\n",
    "  ],\n",
    "  { maxTimeMS: 60000, allowDiskUse: true }\n",
    ");"
   ]
  }
 ],
 "metadata": {
  "kernelspec": {
   "display_name": "Python 3 (ipykernel)",
   "language": "python",
   "name": "python3"
  },
  "language_info": {
   "codemirror_mode": {
    "name": "ipython",
    "version": 3
   },
   "file_extension": ".py",
   "mimetype": "text/x-python",
   "name": "python",
   "nbconvert_exporter": "python",
   "pygments_lexer": "ipython3",
   "version": "3.9.13"
  }
 },
 "nbformat": 4,
 "nbformat_minor": 2
}
